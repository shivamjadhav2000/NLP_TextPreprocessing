{
  "nbformat": 4,
  "nbformat_minor": 0,
  "metadata": {
    "colab": {
      "name": "TextPreprocessing.ipynb",
      "provenance": []
    },
    "kernelspec": {
      "name": "python3",
      "display_name": "Python 3"
    }
  },
  "cells": [
    {
      "cell_type": "code",
      "metadata": {
        "colab": {
          "base_uri": "https://localhost:8080/"
        },
        "id": "49vnG7cRAnpR",
        "outputId": "b0bcd180-aa92-4ac5-d87c-83ca3b960fcb"
      },
      "source": [
        "pip install nltk"
      ],
      "execution_count": 36,
      "outputs": [
        {
          "output_type": "stream",
          "text": [
            "Requirement already satisfied: nltk in /usr/local/lib/python3.6/dist-packages (3.2.5)\n",
            "Requirement already satisfied: six in /usr/local/lib/python3.6/dist-packages (from nltk) (1.15.0)\n"
          ],
          "name": "stdout"
        }
      ]
    },
    {
      "cell_type": "code",
      "metadata": {
        "colab": {
          "base_uri": "https://localhost:8080/"
        },
        "id": "Oei0zNWCDWgU",
        "outputId": "479511e5-1ba8-41aa-9b2c-de9a1478b554"
      },
      "source": [
        "import nltk\r\n",
        "import string\r\n",
        "from nltk import word_tokenize\r\n",
        "from nltk.corpus import stopwords\r\n",
        "from nltk.stem.porter import PorterStemmer\r\n",
        "from nltk import pos_tag\r\n",
        "nltk.download('punkt')\r\n",
        "nltk.download('stopwords')\r\n",
        "nltk.download('averaged_perceptron_tagger')"
      ],
      "execution_count": 37,
      "outputs": [
        {
          "output_type": "stream",
          "text": [
            "[nltk_data] Downloading package punkt to /root/nltk_data...\n",
            "[nltk_data]   Package punkt is already up-to-date!\n",
            "[nltk_data] Downloading package stopwords to /root/nltk_data...\n",
            "[nltk_data]   Package stopwords is already up-to-date!\n",
            "[nltk_data] Downloading package averaged_perceptron_tagger to\n",
            "[nltk_data]     /root/nltk_data...\n",
            "[nltk_data]   Package averaged_perceptron_tagger is already up-to-\n",
            "[nltk_data]       date!\n"
          ],
          "name": "stdout"
        },
        {
          "output_type": "execute_result",
          "data": {
            "text/plain": [
              "True"
            ]
          },
          "metadata": {
            "tags": []
          },
          "execution_count": 37
        }
      ]
    },
    {
      "cell_type": "code",
      "metadata": {
        "id": "PE1hKhlBERP9"
      },
      "source": [
        "\r\n",
        "def preprocess(filename):\r\n",
        "    f = open(filename,'r')\r\n",
        "    text = f.read()\r\n",
        "    text = text.lower()\r\n",
        "    \r\n",
        "    text_p = \"\".join([char for char in text if char not in string.punctuation])\r\n",
        "    \r\n",
        "    words = word_tokenize(text_p)\r\n",
        "    \r\n",
        "    stop_words = stopwords.words('english')\r\n",
        "    filtered_words = [word for word in words if word not in stop_words]\r\n",
        "    \r\n",
        "    porter = PorterStemmer()\r\n",
        "    stemmed = [porter.stem(word) for word in filtered_words]\r\n",
        "    \r\n",
        "    pos = pos_tag(filtered_words)\r\n",
        "    \r\n",
        "    return words, filtered_words, stemmed, pos"
      ],
      "execution_count": 38,
      "outputs": []
    },
    {
      "cell_type": "code",
      "metadata": {
        "id": "j2PbnJ7QEUNl"
      },
      "source": [
        "words, filtered_words, stemmed, pos = preprocess('/content/book.txt')"
      ],
      "execution_count": 39,
      "outputs": []
    },
    {
      "cell_type": "code",
      "metadata": {
        "colab": {
          "base_uri": "https://localhost:8080/"
        },
        "id": "mTvqDJBSEZzh",
        "outputId": "4e5e7e0a-8702-4fe1-f093-91fd455fc484"
      },
      "source": [
        "print('Words:', words[:50])"
      ],
      "execution_count": 40,
      "outputs": [
        {
          "output_type": "stream",
          "text": [
            "Words: ['the', 'project', 'gutenberg', 'ebook', 'of', 'pride', 'and', 'prejudice', 'by', 'jane', 'austen', 'this', 'ebook', 'is', 'for', 'the', 'use', 'of', 'anyone', 'anywhere', 'at', 'no', 'cost', 'and', 'with', 'almost', 'no', 'restrictions', 'whatsoever', 'you', 'may', 'copy', 'it', 'give', 'it', 'away', 'or', 'reuse', 'it', 'under', 'the', 'terms', 'of', 'the', 'project', 'gutenberg', 'license', 'included', 'with', 'this']\n"
          ],
          "name": "stdout"
        }
      ]
    },
    {
      "cell_type": "code",
      "metadata": {
        "colab": {
          "base_uri": "https://localhost:8080/"
        },
        "id": "BxY3_bjFE2UD",
        "outputId": "08b69dd8-78ce-4687-f1ed-dba43c34a344"
      },
      "source": [
        "\r\n",
        "print('Filtered words:', filtered_words[:50])"
      ],
      "execution_count": 41,
      "outputs": [
        {
          "output_type": "stream",
          "text": [
            "Filtered words: ['project', 'gutenberg', 'ebook', 'pride', 'prejudice', 'jane', 'austen', 'ebook', 'use', 'anyone', 'anywhere', 'cost', 'almost', 'restrictions', 'whatsoever', 'may', 'copy', 'give', 'away', 'reuse', 'terms', 'project', 'gutenberg', 'license', 'included', 'ebook', 'online', 'wwwgutenbergorg', 'title', 'pride', 'prejudice', 'author', 'jane', 'austen', 'release', 'date', 'august', '26', '2008', 'ebook', '1342', 'last', 'updated', 'november', '12', '2019', 'language', 'english', 'character', 'set']\n"
          ],
          "name": "stdout"
        }
      ]
    },
    {
      "cell_type": "code",
      "metadata": {
        "colab": {
          "base_uri": "https://localhost:8080/"
        },
        "id": "3KWQqs1kE8Lq",
        "outputId": "4786069c-bcf5-4ea1-d2c6-38afa053c62e"
      },
      "source": [
        "print('Stemmed words:', stemmed[:50])"
      ],
      "execution_count": 42,
      "outputs": [
        {
          "output_type": "stream",
          "text": [
            "Stemmed words: ['project', 'gutenberg', 'ebook', 'pride', 'prejudic', 'jane', 'austen', 'ebook', 'use', 'anyon', 'anywher', 'cost', 'almost', 'restrict', 'whatsoev', 'may', 'copi', 'give', 'away', 'reus', 'term', 'project', 'gutenberg', 'licens', 'includ', 'ebook', 'onlin', 'wwwgutenbergorg', 'titl', 'pride', 'prejudic', 'author', 'jane', 'austen', 'releas', 'date', 'august', '26', '2008', 'ebook', '1342', 'last', 'updat', 'novemb', '12', '2019', 'languag', 'english', 'charact', 'set']\n"
          ],
          "name": "stdout"
        }
      ]
    },
    {
      "cell_type": "code",
      "metadata": {
        "colab": {
          "base_uri": "https://localhost:8080/"
        },
        "id": "Am85QrpiE_V_",
        "outputId": "3a934b86-f5a9-44df-e2b5-b58080b376da"
      },
      "source": [
        "\r\n",
        "print('Part of Speech:', pos[:50])"
      ],
      "execution_count": 43,
      "outputs": [
        {
          "output_type": "stream",
          "text": [
            "Part of Speech: [('project', 'NN'), ('gutenberg', 'NN'), ('ebook', 'NN'), ('pride', 'NN'), ('prejudice', 'NN'), ('jane', 'NN'), ('austen', 'VBP'), ('ebook', 'NN'), ('use', 'NN'), ('anyone', 'NN'), ('anywhere', 'RB'), ('cost', 'VBZ'), ('almost', 'RB'), ('restrictions', 'NNS'), ('whatsoever', 'VBP'), ('may', 'MD'), ('copy', 'VB'), ('give', 'VB'), ('away', 'RP'), ('reuse', 'NN'), ('terms', 'NNS'), ('project', 'VBP'), ('gutenberg', 'JJ'), ('license', 'NN'), ('included', 'VBD'), ('ebook', 'JJ'), ('online', 'NN'), ('wwwgutenbergorg', 'NN'), ('title', 'NN'), ('pride', 'NN'), ('prejudice', 'NN'), ('author', 'NN'), ('jane', 'NN'), ('austen', 'JJ'), ('release', 'NN'), ('date', 'NN'), ('august', 'NN'), ('26', 'CD'), ('2008', 'CD'), ('ebook', 'NN'), ('1342', 'CD'), ('last', 'JJ'), ('updated', 'JJ'), ('november', 'RB'), ('12', 'CD'), ('2019', 'CD'), ('language', 'NN'), ('english', 'JJ'), ('character', 'NN'), ('set', 'VBN')]\n"
          ],
          "name": "stdout"
        }
      ]
    },
    {
      "cell_type": "code",
      "metadata": {
        "id": "gvhDPiPaFCYX"
      },
      "source": [
        ""
      ],
      "execution_count": null,
      "outputs": []
    }
  ]
}